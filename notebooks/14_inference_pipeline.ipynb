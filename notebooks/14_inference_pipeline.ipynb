{
 "cells": [
  {
   "cell_type": "code",
   "execution_count": 1,
   "metadata": {},
   "outputs": [],
   "source": [
    "%load_ext autoreload\n",
    "%autoreload 2"
   ]
  },
  {
   "cell_type": "code",
   "execution_count": 2,
   "metadata": {},
   "outputs": [],
   "source": [
    "import os, sys\n",
    "\n",
    "sys.path.append('c:\\\\Projects\\\\taxi_predicts\\\\src\\\\')"
   ]
  },
  {
   "cell_type": "code",
   "execution_count": 3,
   "metadata": {},
   "outputs": [
    {
     "name": "stdout",
     "output_type": "stream",
     "text": [
      "current_date=Timestamp('2024-03-20 09:00:00')\n"
     ]
    }
   ],
   "source": [
    "from datetime import datetime, timedelta\n",
    "import pandas as pd\n",
    "\n",
    "current_date = pd.to_datetime(datetime.utcnow()).floor('H') # - timedelta(hours=1)\n",
    "print(f'{current_date=}')\n",
    "# current_date = pd.Timestamp('2023-02-28 09:00:00')"
   ]
  },
  {
   "cell_type": "code",
   "execution_count": 4,
   "metadata": {},
   "outputs": [
    {
     "name": "stderr",
     "output_type": "stream",
     "text": [
      "c:\\Users\\dpetrik\\AppData\\Local\\Programs\\Python\\Python310\\lib\\site-packages\\tqdm\\auto.py:21: TqdmWarning: IProgress not found. Please update jupyter and ipywidgets. See https://ipywidgets.readthedocs.io/en/stable/user_install.html\n",
      "  from .autonotebook import tqdm as notebook_tqdm\n"
     ]
    },
    {
     "name": "stdout",
     "output_type": "stream",
     "text": [
      "Connected. Call `.close()` to terminate connection gracefully.\n",
      "\n",
      "Logged in to project, explore it here https://c.app.hopsworks.ai:443/p/549012\n",
      "Connected. Call `.close()` to terminate connection gracefully.\n",
      "Fetching data from 2024-02-21 09:00:00 to 2024-03-20 08:00:00\n"
     ]
    },
    {
     "name": "stderr",
     "output_type": "stream",
     "text": [
      "UserWarning: Could not establish connection to ArrowFlight Server. (Flight returned timeout error, with message: Deadline Exceeded) Will fall back to hive/spark for this session. If the error persists, you can disable using ArrowFlight by changing the cluster configuration (set 'enable_flyingduck'='false').\n",
      "DeprecationWarning: ssl.PROTOCOL_TLS is deprecated\n"
     ]
    },
    {
     "name": "stdout",
     "output_type": "stream",
     "text": [
      "Finished: Reading data from Hopsworks, using Hive (60.41s) \n",
      "ts_data=               pickup_hour  rides  pickup_location_id\n",
      "0      2024-03-02 08:00:00      0                 187\n",
      "1      2024-02-22 23:00:00      0                 242\n",
      "2      2024-02-24 17:00:00      0                 195\n",
      "3      2024-03-01 22:00:00      0                 207\n",
      "4      2024-02-29 10:00:00      0                 258\n",
      "...                    ...    ...                 ...\n",
      "184435 2024-03-20 07:00:00      1                  69\n",
      "184436 2024-03-20 00:00:00     50                 163\n",
      "184437 2024-03-19 22:00:00      0                  30\n",
      "184438 2024-03-19 14:00:00      0                 165\n",
      "184439 2024-03-19 22:00:00     44                 140\n",
      "\n",
      "[178080 rows x 3 columns]\n"
     ]
    }
   ],
   "source": [
    "from inference import load_batch_of_features_from_store\n",
    "\n",
    "#loading batch of features from store\n",
    "features = load_batch_of_features_from_store(current_date)"
   ]
  },
  {
   "cell_type": "code",
   "execution_count": 5,
   "metadata": {},
   "outputs": [
    {
     "name": "stdout",
     "output_type": "stream",
     "text": [
      "Connection closed.\n",
      "Connected. Call `.close()` to terminate connection gracefully.\n",
      "\n",
      "Logged in to project, explore it here https://c.app.hopsworks.ai:443/p/549012\n",
      "Connected. Call `.close()` to terminate connection gracefully.\n",
      "[LightGBM] [Warning] feature_fraction is set=0.6693931619382161, colsample_bytree=1.0 will be ignored. Current value: feature_fraction=0.6693931619382161\n",
      "[LightGBM] [Warning] bagging_fraction is set=0.2097048168865949, subsample=1.0 will be ignored. Current value: bagging_fraction=0.2097048168865949\n"
     ]
    }
   ],
   "source": [
    "from inference import (\n",
    "    load_model_from_registry,\n",
    "    get_model_predictions\n",
    ")\n",
    "\n",
    "model = load_model_from_registry()\n",
    "predictions = get_model_predictions(model, features)"
   ]
  },
  {
   "cell_type": "code",
   "execution_count": 11,
   "metadata": {},
   "outputs": [
    {
     "ename": "NameError",
     "evalue": "name 'FeatureGroupConfig' is not defined",
     "output_type": "error",
     "traceback": [
      "\u001b[1;31m---------------------------------------------------------------------------\u001b[0m",
      "\u001b[1;31mNameError\u001b[0m                                 Traceback (most recent call last)",
      "Cell \u001b[1;32mIn[11], line 1\u001b[0m\n\u001b[1;32m----> 1\u001b[0m \u001b[38;5;28;01mfrom\u001b[39;00m \u001b[38;5;21;01mfeature_store_api\u001b[39;00m \u001b[38;5;28;01mimport\u001b[39;00m get_feature_store\n\u001b[0;32m      2\u001b[0m \u001b[38;5;28;01mimport\u001b[39;00m \u001b[38;5;21;01mconfig\u001b[39;00m \u001b[38;5;28;01mas\u001b[39;00m \u001b[38;5;21;01mconfig\u001b[39;00m\n\u001b[0;32m      4\u001b[0m \u001b[38;5;66;03m# connect to the feature group\u001b[39;00m\n",
      "File \u001b[1;32mc:\\Projects\\taxi_predicts\\src\\feature_store_api.py:30\u001b[0m\n\u001b[0;32m     19\u001b[0m \u001b[38;5;28;01mdef\u001b[39;00m \u001b[38;5;21mget_feature_group\u001b[39m(\n\u001b[0;32m     20\u001b[0m     name: \u001b[38;5;28mstr\u001b[39m,\n\u001b[0;32m     21\u001b[0m     version: Optional[\u001b[38;5;28mint\u001b[39m] \u001b[38;5;241m=\u001b[39m \u001b[38;5;241m1\u001b[39m\n\u001b[0;32m     22\u001b[0m     ) \u001b[38;5;241m-\u001b[39m\u001b[38;5;241m>\u001b[39m hsfs\u001b[38;5;241m.\u001b[39mfeature_group\u001b[38;5;241m.\u001b[39mFeatureGroup:\n\u001b[0;32m     24\u001b[0m     \u001b[38;5;28;01mreturn\u001b[39;00m get_feature_store()\u001b[38;5;241m.\u001b[39mget_feature_group(\n\u001b[0;32m     25\u001b[0m         name\u001b[38;5;241m=\u001b[39mname,\n\u001b[0;32m     26\u001b[0m         version\u001b[38;5;241m=\u001b[39mversion,\n\u001b[0;32m     27\u001b[0m     )\n\u001b[0;32m     29\u001b[0m \u001b[38;5;28;01mdef\u001b[39;00m \u001b[38;5;21mget_or_create_feature_group\u001b[39m(\n\u001b[1;32m---> 30\u001b[0m     feature_group_metadata: \u001b[43mFeatureGroupConfig\u001b[49m\n\u001b[0;32m     31\u001b[0m ) \u001b[38;5;241m-\u001b[39m\u001b[38;5;241m>\u001b[39m hsfs\u001b[38;5;241m.\u001b[39mfeature_group\u001b[38;5;241m.\u001b[39mFeatureGroup:\n\u001b[0;32m     33\u001b[0m     \u001b[38;5;28;01mreturn\u001b[39;00m get_feature_store()\u001b[38;5;241m.\u001b[39mget_or_create_feature_group(\n\u001b[0;32m     34\u001b[0m         name\u001b[38;5;241m=\u001b[39mfeature_group_metadata\u001b[38;5;241m.\u001b[39mname,\n\u001b[0;32m     35\u001b[0m         version\u001b[38;5;241m=\u001b[39mfeature_group_metadata\u001b[38;5;241m.\u001b[39mversion,\n\u001b[1;32m   (...)\u001b[0m\n\u001b[0;32m     39\u001b[0m         online_enabled\u001b[38;5;241m=\u001b[39mfeature_group_metadata\u001b[38;5;241m.\u001b[39monline_enabled\n\u001b[0;32m     40\u001b[0m     )\n\u001b[0;32m     42\u001b[0m \u001b[38;5;28;01mdef\u001b[39;00m \u001b[38;5;21mget_or_create_feature_view\u001b[39m(\n\u001b[0;32m     43\u001b[0m     feature_view_metadata: FeatureViewConfig\n\u001b[0;32m     44\u001b[0m ) \u001b[38;5;241m-\u001b[39m\u001b[38;5;241m>\u001b[39m hsfs\u001b[38;5;241m.\u001b[39mfeature_view\u001b[38;5;241m.\u001b[39mFeatureView:\n\u001b[0;32m     45\u001b[0m \n\u001b[0;32m     46\u001b[0m     \u001b[38;5;66;03m# get pointer to the feature store\u001b[39;00m\n",
      "\u001b[1;31mNameError\u001b[0m: name 'FeatureGroupConfig' is not defined"
     ]
    }
   ],
   "source": [
    "from feature_store_api import get_feature_store\n",
    "\n",
    "# connect to the feature group\n",
    "feature_group = get_feature_store().get_or_create_feature_group(\n",
    "    name='model_predictions_feature_group',\n",
    "    version=1,\n",
    "    description=\"Predictions generate by our production model\",\n",
    "    primary_key = ['pickup_location_id', 'pickup_hour'],\n",
    "    event_time='pickup_hour',\n",
    ")"
   ]
  },
  {
   "cell_type": "code",
   "execution_count": null,
   "metadata": {},
   "outputs": [],
   "source": [
    "#we put the predictions into feature store so they can be later used \n",
    "feature_group.insert(predictions, write_options={\"wait_for_job\": False})"
   ]
  },
  {
   "cell_type": "code",
   "execution_count": null,
   "metadata": {},
   "outputs": [],
   "source": [
    "#we need to run this everytime the feature pipeline completes so we create one more action "
   ]
  }
 ],
 "metadata": {
  "kernelspec": {
   "display_name": "Python 3",
   "language": "python",
   "name": "python3"
  },
  "language_info": {
   "codemirror_mode": {
    "name": "ipython",
    "version": 3
   },
   "file_extension": ".py",
   "mimetype": "text/x-python",
   "name": "python",
   "nbconvert_exporter": "python",
   "pygments_lexer": "ipython3",
   "version": "3.10.0"
  }
 },
 "nbformat": 4,
 "nbformat_minor": 2
}
