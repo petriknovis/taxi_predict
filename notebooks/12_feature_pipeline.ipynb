{
 "cells": [
  {
   "cell_type": "code",
   "execution_count": 61,
   "metadata": {},
   "outputs": [],
   "source": [
    "import os, sys\n",
    "\n",
    "sys.path.append('c:\\\\Projects\\\\taxi_predicts\\\\src\\\\')"
   ]
  },
  {
   "cell_type": "code",
   "execution_count": 62,
   "metadata": {},
   "outputs": [],
   "source": [
    "import config as config"
   ]
  },
  {
   "cell_type": "code",
   "execution_count": 80,
   "metadata": {},
   "outputs": [
    {
     "name": "stdout",
     "output_type": "stream",
     "text": [
      "current_date=Timestamp('2024-03-20 13:00:00')\n",
      "2024-02-21 13:00:00\n"
     ]
    }
   ],
   "source": [
    "from datetime import datetime, timedelta\n",
    "\n",
    "import pandas as pd\n",
    "\n",
    "current_date = pd.to_datetime(datetime.utcnow()).floor('H')\n",
    "print(f'{current_date=}')\n",
    "\n",
    "#we fetch raw data for the last 28days to add redundancy to our data pipeline\n",
    "fetch_data_to = current_date\n",
    "fetch_data_from = current_date - timedelta(days=28)\n",
    "\n",
    "print(fetch_data_from)"
   ]
  },
  {
   "cell_type": "code",
   "execution_count": 108,
   "metadata": {},
   "outputs": [],
   "source": [
    "#we cannot import the current data from data warehouse\n",
    "# so we simulate the data\n",
    "\n",
    "from data import load_raw_data\n",
    "\n",
    "def fetch_batch_raw_data(from_date: datetime, to_date: datetime) -> pd.DataFrame:\n",
    "    #we simulate production data by sampling historical data from 52weeks ago \n",
    "\n",
    "    from_date_ = from_date - timedelta(days=7*52)\n",
    "    to_date_ = to_date - timedelta(days=7*52)\n",
    "\n",
    "    print(from_date_)\n",
    "    print(to_date_)\n",
    "\n",
    "    rides = load_raw_data(year=from_date_.year, months=from_date_.month)\n",
    "    rides = rides[rides.pickup_datetime >= from_date_]\n",
    "    rides_2 = load_raw_data(year=to_date_.year, months=to_date_.month)\n",
    "    rides_2 = rides_2[rides_2.pickup_datetime < to_date_]\n",
    "    \n",
    "    rides = pd.concat([rides, rides_2])\n",
    "    rides['pickup_datetime'] += timedelta(days=7*52)\n",
    "    #shift the data to pretend this is recent data\n",
    "\n",
    "    print(rides.head(10))\n",
    "    print(rides_2.tail(10))\n",
    "\n",
    "    rides.sort_values(by=['pickup_location_id', 'pickup_datetime'], inplace=True)\n",
    "\n",
    "    return rides"
   ]
  },
  {
   "cell_type": "code",
   "execution_count": 109,
   "metadata": {},
   "outputs": [
    {
     "name": "stdout",
     "output_type": "stream",
     "text": [
      "2023-02-22 13:00:00\n",
      "2023-03-22 13:00:00\n",
      "File 2023-02 was already in local storage\n",
      "File 2023-03 was already in local storage\n",
      "            pickup_datetime  pickup_location_id\n",
      "1748114 2024-02-21 17:10:55                 229\n",
      "1748115 2024-02-21 17:23:00                 263\n",
      "1753080 2024-02-21 17:33:53                 263\n",
      "1753081 2024-02-21 17:46:00                 263\n",
      "1753082 2024-02-21 18:14:25                 230\n",
      "1757220 2024-02-21 18:46:12                 237\n",
      "1757221 2024-02-21 18:55:51                 229\n",
      "1760434 2024-02-21 19:42:59                 141\n",
      "1760435 2024-02-21 19:59:27                 263\n",
      "1760436 2024-02-21 20:03:08                 262\n",
      "            pickup_datetime  pickup_location_id\n",
      "3376779 2023-03-22 12:01:10                  79\n",
      "3376780 2023-03-22 12:32:00                  50\n",
      "3376781 2023-03-22 12:51:00                 226\n",
      "3376782 2023-03-22 12:05:25                 164\n",
      "3376783 2023-03-22 12:57:00                 261\n",
      "3376784 2023-03-22 12:58:51                 161\n",
      "3376785 2023-03-22 12:57:00                 143\n",
      "3376786 2023-03-22 12:26:00                  79\n",
      "3376787 2023-03-22 12:17:57                  43\n",
      "3376788 2023-03-22 12:21:47                 140\n"
     ]
    }
   ],
   "source": [
    "rides = fetch_batch_raw_data(from_date=fetch_data_from, to_date=fetch_data_to)"
   ]
  },
  {
   "cell_type": "code",
   "execution_count": 96,
   "metadata": {},
   "outputs": [
    {
     "name": "stderr",
     "output_type": "stream",
     "text": [
      "100%|██████████| 265/265 [00:01<00:00, 232.91it/s]\n"
     ]
    }
   ],
   "source": [
    "from data import transform_raw_data_into_ts_data\n",
    "\n",
    "ts_data = transform_raw_data_into_ts_data(rides)"
   ]
  },
  {
   "cell_type": "code",
   "execution_count": 100,
   "metadata": {},
   "outputs": [
    {
     "name": "stdout",
     "output_type": "stream",
     "text": [
      "               pickup_hour  rides  pickup_location_id\n",
      "178070 2024-03-20 03:00:00      2                 265\n",
      "178071 2024-03-20 04:00:00      3                 265\n",
      "178072 2024-03-20 05:00:00      5                 265\n",
      "178073 2024-03-20 06:00:00      9                 265\n",
      "178074 2024-03-20 07:00:00      3                 265\n",
      "178075 2024-03-20 08:00:00      7                 265\n",
      "178076 2024-03-20 09:00:00      2                 265\n",
      "178077 2024-03-20 10:00:00      2                 265\n",
      "178078 2024-03-20 11:00:00      4                 265\n",
      "178079 2024-03-20 12:00:00      5                 265\n"
     ]
    }
   ],
   "source": [
    "print(f'{ts_data.tail(10)}')"
   ]
  },
  {
   "cell_type": "code",
   "execution_count": 90,
   "metadata": {},
   "outputs": [
    {
     "name": "stdout",
     "output_type": "stream",
     "text": [
      "Connection closed.\n",
      "Connected. Call `.close()` to terminate connection gracefully.\n",
      "\n",
      "Logged in to project, explore it here https://c.app.hopsworks.ai:443/p/549012\n",
      "Connected. Call `.close()` to terminate connection gracefully.\n"
     ]
    }
   ],
   "source": [
    "import hopsworks\n",
    "#now we connect to the feture_store and feature group to store the data\n",
    "\n",
    "#connect to the project\n",
    "project = hopsworks.login(\n",
    "    project=config.HOPSWORKS_PROJECT_NAME,\n",
    "    api_key_value=config.HOPSWORKS_API_KEY\n",
    ")\n",
    "\n",
    "#connect to the feature store\n",
    "feature_store = project.get_feature_store()\n",
    "\n",
    "#connect to the feature group\n",
    "feature_group = feature_store.get_or_create_feature_group(\n",
    "    name=config.FEATURE_GROUP_NAME,\n",
    "    version=config.FEATURE_GROUP_VERSION,\n",
    "    description='Time-series data at hourly frequency',\n",
    "    primary_key=['pickup_location_id', 'pickup_hour'],\n",
    "    event_time='pickup_hour'\n",
    ")\n",
    "\n"
   ]
  },
  {
   "cell_type": "code",
   "execution_count": 91,
   "metadata": {},
   "outputs": [
    {
     "name": "stderr",
     "output_type": "stream",
     "text": [
      "Uploading Dataframe: 100.00% |██████████| Rows 178080/178080 | Elapsed Time: 00:17 | Remaining Time: 00:00\n"
     ]
    },
    {
     "name": "stdout",
     "output_type": "stream",
     "text": [
      "Launching job: time_series_hourly_feature_group_1_offline_fg_materialization\n",
      "Job started successfully, you can follow the progress at \n",
      "https://c.app.hopsworks.ai/p/549012/jobs/named/time_series_hourly_feature_group_1_offline_fg_materialization/executions\n"
     ]
    },
    {
     "data": {
      "text/plain": [
       "(<hsfs.core.job.Job at 0x2e3251a9ba0>, None)"
      ]
     },
     "execution_count": 91,
     "metadata": {},
     "output_type": "execute_result"
    }
   ],
   "source": [
    "feature_group.insert(ts_data, write_options={\"wait_for_job\": False})"
   ]
  },
  {
   "cell_type": "code",
   "execution_count": null,
   "metadata": {},
   "outputs": [],
   "source": [
    "#now we need to automate this so it runs every hour, we do that in github actions"
   ]
  }
 ],
 "metadata": {
  "kernelspec": {
   "display_name": "Python 3",
   "language": "python",
   "name": "python3"
  },
  "language_info": {
   "codemirror_mode": {
    "name": "ipython",
    "version": 3
   },
   "file_extension": ".py",
   "mimetype": "text/x-python",
   "name": "python",
   "nbconvert_exporter": "python",
   "pygments_lexer": "ipython3",
   "version": "3.10.0"
  }
 },
 "nbformat": 4,
 "nbformat_minor": 2
}
