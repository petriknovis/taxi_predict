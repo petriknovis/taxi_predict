{
 "cells": [
  {
   "cell_type": "code",
   "execution_count": 8,
   "metadata": {},
   "outputs": [],
   "source": [
    "import os, sys\n",
    "\n",
    "sys.path.append('c:\\\\Projects\\\\taxi_predicts\\\\src\\\\')"
   ]
  },
  {
   "cell_type": "code",
   "execution_count": 9,
   "metadata": {},
   "outputs": [],
   "source": [
    "import config as config"
   ]
  },
  {
   "cell_type": "code",
   "execution_count": 10,
   "metadata": {},
   "outputs": [
    {
     "name": "stdout",
     "output_type": "stream",
     "text": [
      "current_date=Timestamp('2024-03-21 08:00:00')\n",
      "2024-02-22 08:00:00\n"
     ]
    }
   ],
   "source": [
    "from datetime import datetime, timedelta\n",
    "\n",
    "import pandas as pd\n",
    "\n",
    "current_date = pd.to_datetime(datetime.utcnow()).floor('H')\n",
    "print(f'{current_date=}')\n",
    "\n",
    "#we fetch raw data for the last 28days to add redundancy to our data pipeline\n",
    "fetch_data_to = current_date\n",
    "fetch_data_from = current_date - timedelta(days=28)\n",
    "\n",
    "print(fetch_data_from)"
   ]
  },
  {
   "cell_type": "code",
   "execution_count": 11,
   "metadata": {},
   "outputs": [],
   "source": [
    "#we cannot import the current data from data warehouse\n",
    "# so we simulate the data\n",
    "\n",
    "from data import load_raw_data\n",
    "\n",
    "def fetch_batch_raw_data(from_date: datetime, to_date: datetime) -> pd.DataFrame:\n",
    "    #we simulate production data by sampling historical data from 52weeks ago \n",
    "\n",
    "    from_date_ = from_date - timedelta(days=7*52)\n",
    "    to_date_ = to_date - timedelta(days=7*52)\n",
    "\n",
    "    print(from_date_)\n",
    "    print(to_date_)\n",
    "\n",
    "    rides = load_raw_data(year=from_date_.year, months=from_date_.month)\n",
    "    rides = rides[rides.pickup_datetime >= from_date_]\n",
    "    rides_2 = load_raw_data(year=to_date_.year, months=to_date_.month)\n",
    "    rides_2 = rides_2[rides_2.pickup_datetime < to_date_]\n",
    "    \n",
    "    rides = pd.concat([rides, rides_2])\n",
    "    rides['pickup_datetime'] += timedelta(days=7*52)\n",
    "    #shift the data to pretend this is recent data\n",
    "\n",
    "    print(rides.head(10))\n",
    "    print(rides_2.tail(10))\n",
    "\n",
    "    rides.sort_values(by=['pickup_location_id', 'pickup_datetime'], inplace=True)\n",
    "\n",
    "    return rides"
   ]
  },
  {
   "cell_type": "code",
   "execution_count": 12,
   "metadata": {},
   "outputs": [
    {
     "name": "stdout",
     "output_type": "stream",
     "text": [
      "2023-02-23 08:00:00\n",
      "2023-03-23 08:00:00\n",
      "File 2023-02 was already in local storage\n",
      "File 2023-03 was already in local storage\n",
      "            pickup_datetime  pickup_location_id\n",
      "2226208 2024-02-22 13:27:20                 264\n",
      "2227795 2024-02-22 16:05:21                 132\n",
      "2228201 2024-02-22 17:04:42                 114\n",
      "2228202 2024-02-22 17:29:24                 170\n",
      "2228203 2024-02-22 17:47:02                 234\n",
      "2228204 2024-02-22 17:58:25                 186\n",
      "2229316 2024-02-22 18:31:35                  13\n",
      "2229317 2024-02-22 18:50:06                 100\n",
      "2230480 2024-02-22 08:00:40                 262\n",
      "2230596 2024-02-22 08:00:37                 234\n",
      "            pickup_datetime  pickup_location_id\n",
      "3378594 2023-03-23 07:37:23                  48\n",
      "3378595 2023-03-23 07:31:42                 229\n",
      "3378596 2023-03-23 07:55:26                 231\n",
      "3378597 2023-03-23 07:18:31                 161\n",
      "3378598 2023-03-23 07:55:42                 262\n",
      "3378599 2023-03-23 07:36:00                 239\n",
      "3378600 2023-03-23 07:07:58                  33\n",
      "3378601 2023-03-23 07:37:00                  87\n",
      "3378602 2023-03-23 07:32:00                  24\n",
      "3378603 2023-03-23 07:48:00                 137\n"
     ]
    }
   ],
   "source": [
    "rides = fetch_batch_raw_data(from_date=fetch_data_from, to_date=fetch_data_to)"
   ]
  },
  {
   "cell_type": "code",
   "execution_count": 13,
   "metadata": {},
   "outputs": [
    {
     "name": "stderr",
     "output_type": "stream",
     "text": [
      "100%|██████████| 265/265 [00:00<00:00, 304.35it/s]\n"
     ]
    }
   ],
   "source": [
    "from data import transform_raw_data_into_ts_data\n",
    "\n",
    "ts_data = transform_raw_data_into_ts_data(rides)"
   ]
  },
  {
   "cell_type": "code",
   "execution_count": 14,
   "metadata": {},
   "outputs": [
    {
     "name": "stdout",
     "output_type": "stream",
     "text": [
      "               pickup_hour  rides  pickup_location_id\n",
      "182310 2024-03-20 22:00:00      1                 265\n",
      "182311 2024-03-20 23:00:00      3                 265\n",
      "182312 2024-03-21 00:00:00      4                 265\n",
      "182313 2024-03-21 01:00:00      3                 265\n",
      "182314 2024-03-21 02:00:00      1                 265\n",
      "182315 2024-03-21 03:00:00      3                 265\n",
      "182316 2024-03-21 04:00:00      1                 265\n",
      "182317 2024-03-21 05:00:00      3                 265\n",
      "182318 2024-03-21 06:00:00      6                 265\n",
      "182319 2024-03-21 07:00:00      0                 265\n"
     ]
    }
   ],
   "source": [
    "print(f'{ts_data.tail(10)}')"
   ]
  },
  {
   "cell_type": "code",
   "execution_count": 15,
   "metadata": {},
   "outputs": [
    {
     "name": "stdout",
     "output_type": "stream",
     "text": [
      "Connected. Call `.close()` to terminate connection gracefully.\n",
      "\n",
      "Logged in to project, explore it here https://c.app.hopsworks.ai:443/p/549012\n",
      "Connected. Call `.close()` to terminate connection gracefully.\n"
     ]
    }
   ],
   "source": [
    "import hopsworks\n",
    "#now we connect to the feture_store and feature group to store the data\n",
    "\n",
    "#connect to the project\n",
    "project = hopsworks.login(\n",
    "    project=config.HOPSWORKS_PROJECT_NAME,\n",
    "    api_key_value=config.HOPSWORKS_API_KEY\n",
    ")\n",
    "\n",
    "#connect to the feature store\n",
    "feature_store = project.get_feature_store()\n",
    "\n",
    "#connect to the feature group\n",
    "feature_group = feature_store.get_or_create_feature_group(\n",
    "    name=config.FEATURE_GROUP_NAME,\n",
    "    version=config.FEATURE_GROUP_VERSION,\n",
    "    description='Time-series data at hourly frequency',\n",
    "    primary_key=['pickup_location_id', 'pickup_hour'],\n",
    "    event_time='pickup_hour'\n",
    ")\n",
    "\n"
   ]
  },
  {
   "cell_type": "code",
   "execution_count": 16,
   "metadata": {},
   "outputs": [
    {
     "name": "stderr",
     "output_type": "stream",
     "text": [
      "Uploading Dataframe: 100.00% |██████████| Rows 182320/182320 | Elapsed Time: 00:17 | Remaining Time: 00:00\n"
     ]
    },
    {
     "name": "stdout",
     "output_type": "stream",
     "text": [
      "Launching job: time_series_hourly_feature_group_1_offline_fg_materialization\n",
      "Job started successfully, you can follow the progress at \n",
      "https://c.app.hopsworks.ai/p/549012/jobs/named/time_series_hourly_feature_group_1_offline_fg_materialization/executions\n"
     ]
    },
    {
     "data": {
      "text/plain": [
       "(<hsfs.core.job.Job at 0x1f60e68cac0>, None)"
      ]
     },
     "execution_count": 16,
     "metadata": {},
     "output_type": "execute_result"
    }
   ],
   "source": [
    "feature_group.insert(ts_data, write_options={\"wait_for_job\": False})"
   ]
  },
  {
   "cell_type": "code",
   "execution_count": null,
   "metadata": {},
   "outputs": [],
   "source": [
    "#now we need to automate this so it runs every hour, we do that in github actions\n",
    "#this need to work every hour, if not the inference pipeline might brake and it wont get the previous hours predicts and it might fail\n"
   ]
  }
 ],
 "metadata": {
  "kernelspec": {
   "display_name": "Python 3",
   "language": "python",
   "name": "python3"
  },
  "language_info": {
   "codemirror_mode": {
    "name": "ipython",
    "version": 3
   },
   "file_extension": ".py",
   "mimetype": "text/x-python",
   "name": "python",
   "nbconvert_exporter": "python",
   "pygments_lexer": "ipython3",
   "version": "3.10.0"
  }
 },
 "nbformat": 4,
 "nbformat_minor": 2
}
