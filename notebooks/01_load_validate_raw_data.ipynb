{
 "cells": [
  {
   "cell_type": "code",
   "execution_count": 9,
   "metadata": {},
   "outputs": [],
   "source": [
    "from pathlib import Path\n",
    "import requests\n",
    "\n",
    "def download_file_of_raw_data(year: int, month: int) -> Path:\n",
    "    url = f'https://d37ci6vzurychx.cloudfront.net/trip-data/yellow_tripdata_{year}-{month:02d}.parquet'\n",
    "    res = requests.get(url)\n",
    "\n",
    "    if res.status_code == 200:\n",
    "        path = f'../data/raw/rides_{year}-{month:02d}.parquet'\n",
    "        open(path, \"wb\").write(res.content)\n",
    "        return path\n",
    "    else:\n",
    "        raise Exception(f'{url} is not available.') "
   ]
  },
  {
   "cell_type": "code",
   "execution_count": 2,
   "metadata": {},
   "outputs": [
    {
     "data": {
      "text/plain": [
       "'../data/raw/rides_2023-01.parquet'"
      ]
     },
     "execution_count": 2,
     "metadata": {},
     "output_type": "execute_result"
    }
   ],
   "source": [
    "download_file_of_raw_data(2023, month=1)"
   ]
  },
  {
   "cell_type": "code",
   "execution_count": 3,
   "metadata": {},
   "outputs": [],
   "source": [
    "import pandas as pd\n",
    "\n",
    "rides = pd.read_parquet('../data/raw/rides_2023-01.parquet')\n",
    "\n",
    "#rides.head(20)"
   ]
  },
  {
   "cell_type": "code",
   "execution_count": 4,
   "metadata": {},
   "outputs": [],
   "source": [
    "#getting the two columns of time and place\n",
    "\n",
    "rides = rides[['tpep_pickup_datetime', 'PULocationID']]"
   ]
  },
  {
   "cell_type": "code",
   "execution_count": 5,
   "metadata": {},
   "outputs": [],
   "source": [
    "rides.rename(columns={\n",
    "    'tpep_pickup_datetime': 'pickup_datetime',\n",
    "    'PULocationID': 'pickup_location_id'\n",
    "}, inplace = True)\n",
    "\n",
    "#rides"
   ]
  },
  {
   "cell_type": "code",
   "execution_count": 6,
   "metadata": {},
   "outputs": [
    {
     "data": {
      "text/plain": [
       "count                       3066766\n",
       "mean     2023-01-17 00:22:26.288164\n",
       "min             2008-12-31 23:01:42\n",
       "25%      2023-01-09 16:21:57.250000\n",
       "50%      2023-01-17 08:42:29.500000\n",
       "75%             2023-01-24 16:26:27\n",
       "max             2023-02-01 00:56:53\n",
       "Name: pickup_datetime, dtype: object"
      ]
     },
     "execution_count": 6,
     "metadata": {},
     "output_type": "execute_result"
    }
   ],
   "source": [
    "#describes a summary of statistics regarding this column\n",
    "\n",
    "rides['pickup_datetime'].describe()"
   ]
  },
  {
   "cell_type": "code",
   "execution_count": 7,
   "metadata": {},
   "outputs": [
    {
     "data": {
      "text/plain": [
       "count                       3066718\n",
       "mean     2023-01-17 00:27:48.391113\n",
       "min             2023-01-01 00:00:00\n",
       "25%      2023-01-09 16:22:12.250000\n",
       "50%      2023-01-17 08:42:40.500000\n",
       "75%             2023-01-24 16:26:28\n",
       "max             2023-01-31 23:59:59\n",
       "Name: pickup_datetime, dtype: object"
      ]
     },
     "execution_count": 7,
     "metadata": {},
     "output_type": "execute_result"
    }
   ],
   "source": [
    "#remove pickup dates that are not from specific year or month \n",
    "#filter data\n",
    "\n",
    "rides = rides[rides.pickup_datetime >= '2023-01-01']\n",
    "rides = rides[rides.pickup_datetime < '2023-02-01']\n",
    "\n",
    "#rerun the program to check if the problem is fixed\n",
    "rides['pickup_datetime'].describe()"
   ]
  },
  {
   "cell_type": "code",
   "execution_count": 8,
   "metadata": {},
   "outputs": [],
   "source": [
    "#save the fixed raw data into new file\n",
    "\n",
    "rides.to_parquet('../data/transformed/rides_2023-01.parquet')"
   ]
  }
 ],
 "metadata": {
  "kernelspec": {
   "display_name": "Python 3",
   "language": "python",
   "name": "python3"
  },
  "language_info": {
   "codemirror_mode": {
    "name": "ipython",
    "version": 3
   },
   "file_extension": ".py",
   "mimetype": "text/x-python",
   "name": "python",
   "nbconvert_exporter": "python",
   "pygments_lexer": "ipython3",
   "version": "3.10.0"
  }
 },
 "nbformat": 4,
 "nbformat_minor": 2
}
